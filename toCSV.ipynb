{
 "cells": [
  {
   "cell_type": "code",
   "execution_count": 1,
   "metadata": {},
   "outputs": [],
   "source": [
    "import pandas as pd\n",
    "df = pd.read_excel('TT T02-2022_split_2.xlsx')\n",
    "df.to_csv('TT T02-2022_split_2.csv', index=False, encoding= 'utf-8-sig')\n"
   ]
  },
  {
   "cell_type": "code",
   "execution_count": 2,
   "metadata": {},
   "outputs": [],
   "source": [
    "import pandas as pd\n",
    "df = pd.read_excel('TT T03-2022_split_2.xlsx')\n",
    "df.to_csv('TT T03-2022_split_2.csv', index=False, encoding= 'utf-8-sig')\n"
   ]
  },
  {
   "cell_type": "code",
   "execution_count": 3,
   "metadata": {},
   "outputs": [],
   "source": [
    "import pandas as pd\n",
    "df = pd.read_excel('TT T04-2022_split_2.xlsx')\n",
    "df.to_csv('TT T04-2022_split_2.csv', index=False, encoding= 'utf-8-sig')\n"
   ]
  },
  {
   "cell_type": "code",
   "execution_count": 4,
   "metadata": {},
   "outputs": [],
   "source": [
    "import pandas as pd\n",
    "df = pd.read_excel('TT T05-2022_split_2.xlsx')\n",
    "df.to_csv('TT T05-2022_split_2.csv', index=False, encoding= 'utf-8-sig')\n"
   ]
  },
  {
   "cell_type": "code",
   "execution_count": 5,
   "metadata": {},
   "outputs": [],
   "source": [
    "import pandas as pd\n",
    "df = pd.read_excel('TT T06-2022_split_2.xlsx')\n",
    "df.to_csv('TT T06-2022_split_2.csv', index=False, encoding= 'utf-8-sig')\n"
   ]
  },
  {
   "cell_type": "code",
   "execution_count": 6,
   "metadata": {},
   "outputs": [],
   "source": [
    "import pandas as pd\n",
    "df = pd.read_excel('TT T07-2022_split_2.xlsx')\n",
    "df.to_csv('TT T07-2022_split_2.csv', index=False, encoding= 'utf-8-sig')\n"
   ]
  },
  {
   "cell_type": "code",
   "execution_count": 7,
   "metadata": {},
   "outputs": [],
   "source": [
    "import pandas as pd\n",
    "df = pd.read_excel('TT T08-2022_split_2.xlsx')\n",
    "df.to_csv('TT T08-2022_split_2.csv', index=False, encoding= 'utf-8-sig')\n"
   ]
  },
  {
   "cell_type": "code",
   "execution_count": 8,
   "metadata": {},
   "outputs": [],
   "source": [
    "import pandas as pd\n",
    "df = pd.read_excel('TT T09-2022_split_2.xlsx')\n",
    "df.to_csv('TT T09-2022_split_2.csv', index=False, encoding= 'utf-8-sig')\n"
   ]
  },
  {
   "cell_type": "code",
   "execution_count": 9,
   "metadata": {},
   "outputs": [],
   "source": [
    "import pandas as pd\n",
    "df = pd.read_excel('TT T10-2022_split_2.xlsx')\n",
    "df.to_csv('TT T10-2022_split_2.csv', index=False, encoding= 'utf-8-sig')\n"
   ]
  },
  {
   "cell_type": "code",
   "execution_count": 10,
   "metadata": {},
   "outputs": [],
   "source": [
    "import pandas as pd\n",
    "df = pd.read_excel('TT T11-2022_split_2.xlsx')\n",
    "df.to_csv('TT T11-2022_split_2.csv', index=False, encoding= 'utf-8-sig')\n"
   ]
  },
  {
   "cell_type": "code",
   "execution_count": 11,
   "metadata": {},
   "outputs": [],
   "source": [
    "import pandas as pd\n",
    "df = pd.read_excel('TT T12-2022_split_2.xlsx')\n",
    "df.to_csv('TT T12-2022_split_2.csv', index=False, encoding= 'utf-8-sig')\n"
   ]
  },
  {
   "cell_type": "code",
   "execution_count": 12,
   "metadata": {},
   "outputs": [],
   "source": [
    "import pandas as pd\n",
    "df = pd.read_excel('TT T01-2023_split_2.xlsx')\n",
    "df.to_csv('TT T01-2023_split_2.csv', index=False, encoding= 'utf-8-sig')\n"
   ]
  },
  {
   "cell_type": "code",
   "execution_count": 13,
   "metadata": {},
   "outputs": [],
   "source": [
    "import pandas as pd\n",
    "df = pd.read_excel('TT T02-2023_split_2.xlsx')\n",
    "df.to_csv('TT T02-2023_split_2.csv', index=False, encoding= 'utf-8-sig')\n"
   ]
  },
  {
   "cell_type": "code",
   "execution_count": 14,
   "metadata": {},
   "outputs": [],
   "source": [
    "import pandas as pd\n",
    "df = pd.read_excel('TT T03-2023_split_2.xlsx')\n",
    "df.to_csv('TT T03-2023_split_2.csv', index=False, encoding= 'utf-8-sig')\n"
   ]
  },
  {
   "cell_type": "code",
   "execution_count": 15,
   "metadata": {},
   "outputs": [],
   "source": [
    "import pandas as pd\n",
    "df = pd.read_excel('TT T04-2023_split_2.xlsx')\n",
    "df.to_csv('TT T04-2023_split_2.csv', index=False, encoding= 'utf-8-sig')\n"
   ]
  },
  {
   "cell_type": "code",
   "execution_count": 16,
   "metadata": {},
   "outputs": [],
   "source": [
    "import pandas as pd\n",
    "df = pd.read_excel('TT T05-2023_split_2.xlsx')\n",
    "df.to_csv('TT T05-2023_split_2.csv', index=False, encoding= 'utf-8-sig')\n"
   ]
  },
  {
   "cell_type": "code",
   "execution_count": 17,
   "metadata": {},
   "outputs": [],
   "source": [
    "import pandas as pd\n",
    "df = pd.read_excel('TT T06-2023_split_2.xlsx')\n",
    "df.to_csv('TT T06-2023_split_2.csv', index=False, encoding= 'utf-8-sig')\n"
   ]
  },
  {
   "cell_type": "code",
   "execution_count": 18,
   "metadata": {},
   "outputs": [],
   "source": [
    "import pandas as pd\n",
    "df = pd.read_excel('TT T07-2023_split_2.xlsx')\n",
    "df.to_csv('TT T07-2023_split_2.csv', index=False, encoding= 'utf-8-sig')\n"
   ]
  }
 ],
 "metadata": {
  "kernelspec": {
   "display_name": "base",
   "language": "python",
   "name": "python3"
  },
  "language_info": {
   "codemirror_mode": {
    "name": "ipython",
    "version": 3
   },
   "file_extension": ".py",
   "mimetype": "text/x-python",
   "name": "python",
   "nbconvert_exporter": "python",
   "pygments_lexer": "ipython3",
   "version": "3.11.4"
  }
 },
 "nbformat": 4,
 "nbformat_minor": 2
}
