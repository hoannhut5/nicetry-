{
 "cells": [
  {
   "cell_type": "code",
   "execution_count": 1,
   "metadata": {},
   "outputs": [
    {
     "name": "stdout",
     "output_type": "stream",
     "text": [
      "Converting Distribution Channel.xlsx...\n",
      "Converting New_Core_Classification.xlsx...\n",
      "Converting Productmaster.xlsx...\n",
      "Conversion completed.\n"
     ]
    }
   ],
   "source": [
    "import os\n",
    "import pandas as pd\n",
    "\n",
    "# Folder containing Excel files\n",
    "folder_path = 'Master'\n",
    "\n",
    "# Output folder for CSV files\n",
    "output_folder = 'Master'\n",
    "\n",
    "# Create the output folder if it doesn't exist\n",
    "os.makedirs(output_folder, exist_ok=True)\n",
    "\n",
    "# Loop through all files in the folder\n",
    "for filename in os.listdir(folder_path):\n",
    "    if filename.endswith('.xlsx'):\n",
    "        # Construct the full file paths\n",
    "        excel_file_path = os.path.join(folder_path, filename)\n",
    "        csv_file_path = os.path.join(output_folder, os.path.splitext(filename)[0] + '.csv')\n",
    "\n",
    "        # Print the file name\n",
    "        print(f\"Converting {filename}...\")\n",
    "\n",
    "        # Load the Excel file\n",
    "        df = pd.read_excel(excel_file_path)\n",
    "\n",
    "        # Save as CSV\n",
    "        df.to_csv(csv_file_path, index=False)\n",
    "\n",
    "print(\"Conversion completed.\")\n"
   ]
  }
 ],
 "metadata": {
  "kernelspec": {
   "display_name": "base",
   "language": "python",
   "name": "python3"
  },
  "language_info": {
   "codemirror_mode": {
    "name": "ipython",
    "version": 3
   },
   "file_extension": ".py",
   "mimetype": "text/x-python",
   "name": "python",
   "nbconvert_exporter": "python",
   "pygments_lexer": "ipython3",
   "version": "3.11.4"
  }
 },
 "nbformat": 4,
 "nbformat_minor": 2
}
