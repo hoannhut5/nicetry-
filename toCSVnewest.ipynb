{
 "cells": [
  {
   "cell_type": "code",
   "execution_count": 2,
   "metadata": {},
   "outputs": [
    {
     "name": "stdout",
     "output_type": "stream",
     "text": [
      "Converting TT T01-2022_split_3.xlsx...\n",
      "Converting TT T01-2023_split_3.xlsx...\n",
      "Converting TT T02-2022_split_3.xlsx...\n",
      "Converting TT T02-2023_split_3.xlsx...\n",
      "Converting TT T03-2022_split_3.xlsx...\n",
      "Converting TT T03-2023_split_3.xlsx...\n",
      "Converting TT T04-2022_split_3.xlsx...\n",
      "Converting TT T04-2023_split_3.xlsx...\n",
      "Converting TT T05-2022_split_3.xlsx...\n",
      "Converting TT T05-2023_split_3.xlsx...\n",
      "Converting TT T06-2022_split_3.xlsx...\n",
      "Converting TT T06-2023_split_3.xlsx...\n",
      "Converting TT T07-2022_split_3.xlsx...\n",
      "Converting TT T07-2023_split_3.xlsx...\n",
      "Converting TT T08-2022_split_3.xlsx...\n",
      "Converting TT T09-2022_split_3.xlsx...\n",
      "Converting TT T10-2022_split_3.xlsx...\n",
      "Converting TT T11-2022_split_3.xlsx...\n",
      "Converting TT T12-2022_split_3.xlsx...\n",
      "Conversion completed.\n"
     ]
    }
   ],
   "source": [
    "import os\n",
    "import pandas as pd\n",
    "\n",
    "# Folder containing Excel files\n",
    "folder_path = r'C:\\Users\\lemin\\OneDrive - VLG\\Hoc tap\\Datathon\\code\\python_code\\sales_and_inventory_public_data\\sales_and_inventory_public_data\\Sales_public'\n",
    "\n",
    "# Output folder for CSV files\n",
    "output_folder = r'C:\\Users\\lemin\\OneDrive - VLG\\Hoc tap\\Datathon\\code\\python_code\\sales_and_inventory_public_data\\sales_and_inventory_public_data\\Sales_public_csv'\n",
    "\n",
    "# Create the output folder if it doesn't exist\n",
    "os.makedirs(output_folder, exist_ok=True)\n",
    "\n",
    "# Loop through all files in the folder\n",
    "for filename in os.listdir(folder_path):\n",
    "    if filename.endswith('.xlsx'):\n",
    "        # Construct the full file paths\n",
    "        excel_file_path = os.path.join(folder_path, filename)\n",
    "        csv_file_path = os.path.join(output_folder, os.path.splitext(filename)[0] + '.csv')\n",
    "\n",
    "        # Print the file name\n",
    "        print(f\"Converting {filename}...\")\n",
    "\n",
    "        # Load the Excel file\n",
    "        df = pd.read_excel(excel_file_path)\n",
    "\n",
    "        # Save as CSV\n",
    "        df.to_csv(csv_file_path, index=False, encoding='utf-8-sig')\n",
    "\n",
    "print(\"Conversion completed.\")\n"
   ]
  }
 ],
 "metadata": {
  "kernelspec": {
   "display_name": "base",
   "language": "python",
   "name": "python3"
  },
  "language_info": {
   "codemirror_mode": {
    "name": "ipython",
    "version": 3
   },
   "file_extension": ".py",
   "mimetype": "text/x-python",
   "name": "python",
   "nbconvert_exporter": "python",
   "pygments_lexer": "ipython3",
   "version": "3.11.5"
  }
 },
 "nbformat": 4,
 "nbformat_minor": 2
}
