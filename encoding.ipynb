{
 "cells": [
  {
   "cell_type": "code",
   "execution_count": null,
   "metadata": {
    "vscode": {
     "languageId": "plaintext"
    }
   },
   "outputs": [],
   "source": [
    "import os\n",
    "import csv\n",
    "\n",
    "# Specify the directory containing CSV files\n",
    "input_directory = 'Sale1'\n",
    "output_directory = 'Sales'\n",
    "\n",
    "# List all CSV files in the input directory\n",
    "csv_files = [f for f in os.listdir(input_directory) if f.endswith('.csv')]\n",
    "\n",
    "for csv_file in csv_files:\n",
    "    input_file_path = os.path.join(input_directory, csv_file)\n",
    "    output_file_path = os.path.join(output_directory, csv_file)\n",
    "\n",
    "    with open(input_file_path, 'r', encoding='utf-8') as input_file:\n",
    "        # Read the CSV content\n",
    "        csv_content = input_file.read()\n",
    "\n",
    "    with open(output_file_path, 'w', encoding='utf-8-sig') as output_file:\n",
    "        # Write the CSV content with utf-8-sig encoding\n",
    "        output_file.write(csv_content)\n",
    "\n",
    "    print(f'{csv_file} has been encoded to utf-8-sig and saved to {output_file_path}')"
   ]
  }
 ],
 "metadata": {
  "kernelspec": {
   "display_name": "base",
   "language": "python",
   "name": "python3"
  },
  "language_info": {
   "codemirror_mode": {
    "name": "ipython",
    "version": 3
   },
   "file_extension": ".py",
   "mimetype": "text/x-python",
   "name": "python",
   "nbconvert_exporter": "python",
   "pygments_lexer": "ipython3",
   "version": "3.11.4"
  }
 },
 "nbformat": 4,
 "nbformat_minor": 2
}
