{
 "cells": [
  {
   "cell_type": "code",
   "execution_count": null,
   "metadata": {},
   "outputs": [],
   "source": [
    "#Code rename - Done\n",
    "\n",
    "import os\n",
    "\n",
    "def rename_files(folder_path, old_format, new_format):\n",
    "    for filename in os.listdir(folder_path):\n",
    "        if old_format in filename:\n",
    "            # Construct the new file name\n",
    "            new_filename = filename.replace(old_format, new_format)\n",
    "\n",
    "            # Construct the full file paths\n",
    "            old_filepath = os.path.join(folder_path, filename)\n",
    "            new_filepath = os.path.join(folder_path, new_filename)\n",
    "\n",
    "            # Rename the file\n",
    "            os.rename(old_filepath, new_filepath)\n",
    "            print(f\"Renamed: {filename} to {new_filename}\")\n",
    "\n",
    "# Thay đổi các giá trị dưới đây theo nhu cầu của bạn\n",
    "folder_path = r'C:\\Users\\lemin\\OneDrive - VLG\\Hoc tap\\Datathon\\code\\python_code\\sales_and_inventory_public_data\\sales_and_inventory_public_data\\Sales_public_csv'\n",
    "#old_format = 'TT T3-2022'\n",
    "#new_format = '3-2022'\n",
    "\n",
    "# Gọi hàm để đổi tên các file\n",
    "for i in range(1,13):\n",
    "    old_format = f'TT T{i}-2022_split_3'\n",
    "    new_format = f'{i}-2022_split_3'\n",
    "    rename_files(folder_path, old_format, new_format)\n",
    "\n"
   ]
  }
 ],
 "metadata": {
  "language_info": {
   "name": "python"
  }
 },
 "nbformat": 4,
 "nbformat_minor": 2
}
