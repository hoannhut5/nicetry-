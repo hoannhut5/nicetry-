{
 "cells": [
  {
   "cell_type": "code",
   "execution_count": 2,
   "metadata": {},
   "outputs": [
    {
     "name": "stdout",
     "output_type": "stream",
     "text": [
      "Loading files need to be merged...\n",
      "Prepare for merging files...\n",
      "Success! 1-2022.csv and 1-2022_split_3.csv are merged.\n",
      "__________________________________________________\n",
      "--------------------------------------------------\n",
      "Loading files need to be merged...\n",
      "Prepare for merging files...\n",
      "Success! 1-2023.csv and 1-2023_split_3.csv are merged.\n",
      "__________________________________________________\n",
      "--------------------------------------------------\n",
      "Loading files need to be merged...\n",
      "Prepare for merging files...\n",
      "Success! 10-2022.csv and 10-2022_split_3.csv are merged.\n",
      "__________________________________________________\n",
      "--------------------------------------------------\n",
      "Loading files need to be merged...\n",
      "Prepare for merging files...\n",
      "Success! 11-2022.csv and 11-2022_split_3.csv are merged.\n",
      "__________________________________________________\n",
      "--------------------------------------------------\n",
      "Loading files need to be merged...\n"
     ]
    },
    {
     "ename": "ParserError",
     "evalue": "Error tokenizing data. C error: Calling read(nbytes) on source failed. Try engine='python'.",
     "output_type": "error",
     "traceback": [
      "\u001b[1;31m---------------------------------------------------------------------------\u001b[0m",
      "\u001b[1;31mParserError\u001b[0m                               Traceback (most recent call last)",
      "Cell \u001b[1;32mIn[2], line 38\u001b[0m\n\u001b[0;32m     35\u001b[0m sales_folder_path \u001b[38;5;241m=\u001b[39m \u001b[38;5;124mr\u001b[39m\u001b[38;5;124m'\u001b[39m\u001b[38;5;124mC:\u001b[39m\u001b[38;5;124m\\\u001b[39m\u001b[38;5;124mUsers\u001b[39m\u001b[38;5;124m\\\u001b[39m\u001b[38;5;124mlemin\u001b[39m\u001b[38;5;124m\\\u001b[39m\u001b[38;5;124mOneDrive - VLG\u001b[39m\u001b[38;5;124m\\\u001b[39m\u001b[38;5;124mHoc tap\u001b[39m\u001b[38;5;124m\\\u001b[39m\u001b[38;5;124mDatathon\u001b[39m\u001b[38;5;124m\\\u001b[39m\u001b[38;5;124mcode\u001b[39m\u001b[38;5;124m\\\u001b[39m\u001b[38;5;124mSales\u001b[39m\u001b[38;5;124m'\u001b[39m\n\u001b[0;32m     36\u001b[0m output_folder \u001b[38;5;241m=\u001b[39m \u001b[38;5;124mr\u001b[39m\u001b[38;5;124m'\u001b[39m\u001b[38;5;124mC:\u001b[39m\u001b[38;5;124m\\\u001b[39m\u001b[38;5;124mUsers\u001b[39m\u001b[38;5;124m\\\u001b[39m\u001b[38;5;124mlemin\u001b[39m\u001b[38;5;124m\\\u001b[39m\u001b[38;5;124mOneDrive - VLG\u001b[39m\u001b[38;5;124m\\\u001b[39m\u001b[38;5;124mHoc tap\u001b[39m\u001b[38;5;124m\\\u001b[39m\u001b[38;5;124mDatathon\u001b[39m\u001b[38;5;124m\\\u001b[39m\u001b[38;5;124mcode\u001b[39m\u001b[38;5;124m\\\u001b[39m\u001b[38;5;124mpython_code\u001b[39m\u001b[38;5;124m\\\u001b[39m\u001b[38;5;124msales_and_inventory_public_data\u001b[39m\u001b[38;5;124m\\\u001b[39m\u001b[38;5;124msales_and_inventory_public_data\u001b[39m\u001b[38;5;124m\\\u001b[39m\u001b[38;5;124mSales_merged_split1,2,3\u001b[39m\u001b[38;5;124m'\u001b[39m\n\u001b[1;32m---> 38\u001b[0m merge_csv_files_from_splits(sales_folder_path, split_folder_path, output_folder)\n",
      "Cell \u001b[1;32mIn[2], line 19\u001b[0m, in \u001b[0;36mmerge_csv_files_from_splits\u001b[1;34m(sales_folder_path, split_folder_path, output_folder)\u001b[0m\n\u001b[0;32m     17\u001b[0m \u001b[38;5;28mprint\u001b[39m(\u001b[38;5;124m\"\u001b[39m\u001b[38;5;124mLoading files need to be merged...\u001b[39m\u001b[38;5;124m\"\u001b[39m)\n\u001b[0;32m     18\u001b[0m file1_df \u001b[38;5;241m=\u001b[39m pd\u001b[38;5;241m.\u001b[39mread_csv(file1_path)\n\u001b[1;32m---> 19\u001b[0m file2_df \u001b[38;5;241m=\u001b[39m pd\u001b[38;5;241m.\u001b[39mread_csv(file2_path)\n\u001b[0;32m     21\u001b[0m \u001b[38;5;66;03m# Merge the dataframes\u001b[39;00m\n\u001b[0;32m     22\u001b[0m \u001b[38;5;28mprint\u001b[39m(\u001b[38;5;124m\"\u001b[39m\u001b[38;5;124mPrepare for merging files...\u001b[39m\u001b[38;5;124m\"\u001b[39m)\n",
      "File \u001b[1;32mc:\\Users\\lemin\\anaconda3\\Lib\\site-packages\\pandas\\io\\parsers\\readers.py:948\u001b[0m, in \u001b[0;36mread_csv\u001b[1;34m(filepath_or_buffer, sep, delimiter, header, names, index_col, usecols, dtype, engine, converters, true_values, false_values, skipinitialspace, skiprows, skipfooter, nrows, na_values, keep_default_na, na_filter, verbose, skip_blank_lines, parse_dates, infer_datetime_format, keep_date_col, date_parser, date_format, dayfirst, cache_dates, iterator, chunksize, compression, thousands, decimal, lineterminator, quotechar, quoting, doublequote, escapechar, comment, encoding, encoding_errors, dialect, on_bad_lines, delim_whitespace, low_memory, memory_map, float_precision, storage_options, dtype_backend)\u001b[0m\n\u001b[0;32m    935\u001b[0m kwds_defaults \u001b[38;5;241m=\u001b[39m _refine_defaults_read(\n\u001b[0;32m    936\u001b[0m     dialect,\n\u001b[0;32m    937\u001b[0m     delimiter,\n\u001b[1;32m   (...)\u001b[0m\n\u001b[0;32m    944\u001b[0m     dtype_backend\u001b[38;5;241m=\u001b[39mdtype_backend,\n\u001b[0;32m    945\u001b[0m )\n\u001b[0;32m    946\u001b[0m kwds\u001b[38;5;241m.\u001b[39mupdate(kwds_defaults)\n\u001b[1;32m--> 948\u001b[0m \u001b[38;5;28;01mreturn\u001b[39;00m _read(filepath_or_buffer, kwds)\n",
      "File \u001b[1;32mc:\\Users\\lemin\\anaconda3\\Lib\\site-packages\\pandas\\io\\parsers\\readers.py:617\u001b[0m, in \u001b[0;36m_read\u001b[1;34m(filepath_or_buffer, kwds)\u001b[0m\n\u001b[0;32m    614\u001b[0m     \u001b[38;5;28;01mreturn\u001b[39;00m parser\n\u001b[0;32m    616\u001b[0m \u001b[38;5;28;01mwith\u001b[39;00m parser:\n\u001b[1;32m--> 617\u001b[0m     \u001b[38;5;28;01mreturn\u001b[39;00m parser\u001b[38;5;241m.\u001b[39mread(nrows)\n",
      "File \u001b[1;32mc:\\Users\\lemin\\anaconda3\\Lib\\site-packages\\pandas\\io\\parsers\\readers.py:1748\u001b[0m, in \u001b[0;36mTextFileReader.read\u001b[1;34m(self, nrows)\u001b[0m\n\u001b[0;32m   1741\u001b[0m nrows \u001b[38;5;241m=\u001b[39m validate_integer(\u001b[38;5;124m\"\u001b[39m\u001b[38;5;124mnrows\u001b[39m\u001b[38;5;124m\"\u001b[39m, nrows)\n\u001b[0;32m   1742\u001b[0m \u001b[38;5;28;01mtry\u001b[39;00m:\n\u001b[0;32m   1743\u001b[0m     \u001b[38;5;66;03m# error: \"ParserBase\" has no attribute \"read\"\u001b[39;00m\n\u001b[0;32m   1744\u001b[0m     (\n\u001b[0;32m   1745\u001b[0m         index,\n\u001b[0;32m   1746\u001b[0m         columns,\n\u001b[0;32m   1747\u001b[0m         col_dict,\n\u001b[1;32m-> 1748\u001b[0m     ) \u001b[38;5;241m=\u001b[39m \u001b[38;5;28mself\u001b[39m\u001b[38;5;241m.\u001b[39m_engine\u001b[38;5;241m.\u001b[39mread(  \u001b[38;5;66;03m# type: ignore[attr-defined]\u001b[39;00m\n\u001b[0;32m   1749\u001b[0m         nrows\n\u001b[0;32m   1750\u001b[0m     )\n\u001b[0;32m   1751\u001b[0m \u001b[38;5;28;01mexcept\u001b[39;00m \u001b[38;5;167;01mException\u001b[39;00m:\n\u001b[0;32m   1752\u001b[0m     \u001b[38;5;28mself\u001b[39m\u001b[38;5;241m.\u001b[39mclose()\n",
      "File \u001b[1;32mc:\\Users\\lemin\\anaconda3\\Lib\\site-packages\\pandas\\io\\parsers\\c_parser_wrapper.py:234\u001b[0m, in \u001b[0;36mCParserWrapper.read\u001b[1;34m(self, nrows)\u001b[0m\n\u001b[0;32m    232\u001b[0m \u001b[38;5;28;01mtry\u001b[39;00m:\n\u001b[0;32m    233\u001b[0m     \u001b[38;5;28;01mif\u001b[39;00m \u001b[38;5;28mself\u001b[39m\u001b[38;5;241m.\u001b[39mlow_memory:\n\u001b[1;32m--> 234\u001b[0m         chunks \u001b[38;5;241m=\u001b[39m \u001b[38;5;28mself\u001b[39m\u001b[38;5;241m.\u001b[39m_reader\u001b[38;5;241m.\u001b[39mread_low_memory(nrows)\n\u001b[0;32m    235\u001b[0m         \u001b[38;5;66;03m# destructive to chunks\u001b[39;00m\n\u001b[0;32m    236\u001b[0m         data \u001b[38;5;241m=\u001b[39m _concatenate_chunks(chunks)\n",
      "File \u001b[1;32mparsers.pyx:843\u001b[0m, in \u001b[0;36mpandas._libs.parsers.TextReader.read_low_memory\u001b[1;34m()\u001b[0m\n",
      "File \u001b[1;32mparsers.pyx:904\u001b[0m, in \u001b[0;36mpandas._libs.parsers.TextReader._read_rows\u001b[1;34m()\u001b[0m\n",
      "File \u001b[1;32mparsers.pyx:879\u001b[0m, in \u001b[0;36mpandas._libs.parsers.TextReader._tokenize_rows\u001b[1;34m()\u001b[0m\n",
      "File \u001b[1;32mparsers.pyx:890\u001b[0m, in \u001b[0;36mpandas._libs.parsers.TextReader._check_tokenize_status\u001b[1;34m()\u001b[0m\n",
      "File \u001b[1;32mparsers.pyx:2058\u001b[0m, in \u001b[0;36mpandas._libs.parsers.raise_parser_error\u001b[1;34m()\u001b[0m\n",
      "\u001b[1;31mParserError\u001b[0m: Error tokenizing data. C error: Calling read(nbytes) on source failed. Try engine='python'."
     ]
    }
   ],
   "source": [
    "import pandas as pd\n",
    "import os\n",
    "\n",
    "def merge_csv_files_from_splits(sales_folder_path, split_folder_path, output_folder):\n",
    "    # Create the output folder if it doesn't exist\n",
    "    os.makedirs(output_folder, exist_ok=True)\n",
    "\n",
    "    # Get a list of all CSV files in the first split folder\n",
    "    sales_files = [f for f in os.listdir(sales_folder_path) if f.endswith('.csv')]\n",
    "    # Loop through each CSV file in the first split folder\n",
    "    for file1 in sales_files:\n",
    "        file1_path = os.path.join(sales_folder_path, file1)\n",
    "        file2 = str(file1)[:-4]\n",
    "        file2_path = os.path.join(split_folder_path, file2) + \"_split_3.csv\"\n",
    "\n",
    "        # Read CSV files into dataframes\n",
    "        print(\"Loading files need to be merged...\")\n",
    "        file1_df = pd.read_csv(file1_path)\n",
    "        file2_df = pd.read_csv(file2_path)\n",
    "\n",
    "        # Merge the dataframes\n",
    "        print(\"Prepare for merging files...\")\n",
    "        merged_df = pd.concat([file1_df, file2_df], ignore_index=True)\n",
    "\n",
    "        # Save the merged dataframe to a new .CSV file\n",
    "        output_name = f\"Merged_{os.path.splitext(file1)[0]}.csv\"\n",
    "        output_path = os.path.join(output_folder, output_name)\n",
    "        merged_df.to_csv(output_path, index=False, encoding='utf-8-sig')\n",
    "        print(\"Success!\",file1,\"and\",file2+\"_split_3.csv are merged.\")\n",
    "        print(\"_\"*50)\n",
    "        print(\"-\"*50)\n",
    "# Example usage with 2 split folders\n",
    "\n",
    "split_folder_path = r'C:\\Users\\lemin\\OneDrive - VLG\\Hoc tap\\Datathon\\code\\python_code\\sales_and_inventory_public_data\\sales_and_inventory_public_data\\Sales_public_csv'\n",
    "sales_folder_path = r'C:\\Users\\lemin\\OneDrive - VLG\\Hoc tap\\Datathon\\code\\Sales'\n",
    "output_folder = r'C:\\Users\\lemin\\OneDrive - VLG\\Hoc tap\\Datathon\\code\\python_code\\sales_and_inventory_public_data\\sales_and_inventory_public_data\\Sales_merged_split1,2,3'\n",
    "\n",
    "merge_csv_files_from_splits(sales_folder_path, split_folder_path, output_folder)\n"
   ]
  },
  {
   "cell_type": "code",
   "execution_count": null,
   "metadata": {},
   "outputs": [],
   "source": [
    "#Code rename - Done\n",
    "\n",
    "import os\n",
    "\n",
    "def rename_files(folder_path, old_format, new_format):\n",
    "    for filename in os.listdir(folder_path):\n",
    "        if old_format in filename:\n",
    "            # Construct the new file name\n",
    "            new_filename = filename.replace(old_format, new_format)\n",
    "\n",
    "            # Construct the full file paths\n",
    "            old_filepath = os.path.join(folder_path, filename)\n",
    "            new_filepath = os.path.join(folder_path, new_filename)\n",
    "\n",
    "            # Rename the file\n",
    "            os.rename(old_filepath, new_filepath)\n",
    "            print(f\"Renamed: {filename} to {new_filename}\")\n",
    "\n",
    "# Thay đổi các giá trị dưới đây theo nhu cầu của bạn\n",
    "folder_path = r'C:\\Users\\lemin\\OneDrive - VLG\\Hoc tap\\Datathon\\code\\python_code\\sales_and_inventory_public_data\\sales_and_inventory_public_data\\Sales_public_csv'\n",
    "#old_format = 'TT T3-2022'\n",
    "#new_format = '3-2022'\n",
    "\n",
    "# Gọi hàm để đổi tên các file\n",
    "for i in range(1,13):\n",
    "    old_format = f'TT T{i}-2022_split_3'\n",
    "    new_format = f'{i}-2022_split_3'\n",
    "    rename_files(folder_path, old_format, new_format)\n",
    "\n"
   ]
  }
 ],
 "metadata": {
  "kernelspec": {
   "display_name": "base",
   "language": "python",
   "name": "python3"
  },
  "language_info": {
   "codemirror_mode": {
    "name": "ipython",
    "version": 3
   },
   "file_extension": ".py",
   "mimetype": "text/x-python",
   "name": "python",
   "nbconvert_exporter": "python",
   "pygments_lexer": "ipython3",
   "version": "3.11.5"
  }
 },
 "nbformat": 4,
 "nbformat_minor": 2
}
