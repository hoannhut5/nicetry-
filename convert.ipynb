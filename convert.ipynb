{
 "cells": [
  {
   "cell_type": "code",
   "execution_count": null,
   "metadata": {},
   "outputs": [],
   "source": [
    "import pandas as pd\n",
    "import os\n",
    "\n",
    "def merge_csv_files_from_splits(split1_folder, split2_folder, output_folder):\n",
    "    # Create the output folder if it doesn't exist\n",
    "    os.makedirs(output_folder, exist_ok=True)\n",
    "\n",
    "    # Get a list of all CSV files in the first split folder\n",
    "    split1_files = [f for f in os.listdir(split1_folder) if f.endswith('.csv')]\n",
    "\n",
    "    # Loop through each CSV file in the first split folder\n",
    "    for file1 in split1_files:\n",
    "        file1_path = os.path.join(split1_folder, file1)\n",
    "        file2 = file1.replace(\"_split_1\", \"_split_2\")\n",
    "        file2_path = os.path.join(split2_folder, file2)\n",
    "\n",
    "        # Read CSV files into dataframes\n",
    "        file1_df = pd.read_csv(file1_path)\n",
    "        file2_df = pd.read_csv(file2_path)\n",
    "\n",
    "        # Merge the dataframes\n",
    "        merged_df = pd.concat([file1_df, file2_df], ignore_index=True)\n",
    "\n",
    "        # Save the merged dataframe to a new XLSX file\n",
    "        output_name = f\"Merged_{os.path.splitext(file1)[0]}.xlsx\"\n",
    "        output_path = os.path.join(output_folder, output_name)\n",
    "        merged_df.to_excel(output_path, index=False)\n",
    "\n",
    "# Example usage with 2 split folders\n",
    "split1_folder = \"path/to/TT T01-2022_split_1\"\n",
    "split2_folder = \"path/to/TT T01-2022_split_2\"\n",
    "output_folder = \"path/to/output_folder\"\n",
    "\n",
    "merge_csv_files_from_splits(split1_folder, split2_folder, output_folder)\n"
   ]
  }
 ],
 "metadata": {
  "kernelspec": {
   "display_name": "base",
   "language": "python",
   "name": "python3"
  },
  "language_info": {
   "codemirror_mode": {
    "name": "ipython",
    "version": 3
   },
   "file_extension": ".py",
   "mimetype": "text/x-python",
   "name": "python",
   "nbconvert_exporter": "python",
   "pygments_lexer": "ipython3",
   "version": "3.11.4"
  }
 },
 "nbformat": 4,
 "nbformat_minor": 2
}
